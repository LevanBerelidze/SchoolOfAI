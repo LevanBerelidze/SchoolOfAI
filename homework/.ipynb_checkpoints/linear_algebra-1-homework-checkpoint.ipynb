{
 "cells": [
  {
   "cell_type": "code",
   "execution_count": null,
   "metadata": {},
   "outputs": [],
   "source": [
    "%load_ext autoreload\n",
    "%autoreload 2\n",
    "\n",
    "%matplotlib inline"
   ]
  },
  {
   "cell_type": "markdown",
   "metadata": {},
   "source": [
    "## Basic setup"
   ]
  },
  {
   "cell_type": "markdown",
   "metadata": {},
   "source": [
    "Create anaconda environment\n",
    "<br>\n",
    "```bash\n",
    "conda create -n ml python=3.7.4 jupyter\n",
    "```\n",
    "Install fastai library\n",
    "<br>\n",
    "```bash\n",
    "conda install -c pytorch -c fastai fastai\n",
    "```"
   ]
  },
  {
   "cell_type": "markdown",
   "metadata": {},
   "source": [
    "# Set theory basics"
   ]
  },
  {
   "cell_type": "markdown",
   "metadata": {},
   "source": [
    "#### Prove that:\n",
    "<br>\n",
    "$A \\subseteq A$"
   ]
  },
  {
   "cell_type": "markdown",
   "metadata": {},
   "source": [
    "___Proof By Contradiction:___ Suppose, that $A \\nsubseteq A$. Assuming so, we get $\\exists x \\in A$, such that $x \\not\\in A$, which is a contradiction."
   ]
  },
  {
   "cell_type": "markdown",
   "metadata": {},
   "source": [
    "#### Prove that:\n",
    "<br>\n",
    "If $A \\subseteq B$ and $B \\subseteq A$ $\\to$ $A = B$"
   ]
  },
  {
   "cell_type": "markdown",
   "metadata": {},
   "source": [
    "___Proof:___\n",
    "<br>\n",
    "$A \\subseteq B$ means that if $x \\in A$, then $x \\in B$. Similarly, from $B \\subseteq A$ we get that if $y \\in B$, then $y \\in A$. The contrapositive of the last statement is: if $y \\not\\in A$, then $y \\not\\in B$. Therefore, we obtain that $x \\in B$ if and only if $x \\in A$, meaning that two sets are equal."
   ]
  },
  {
   "cell_type": "markdown",
   "metadata": {},
   "source": [
    "#### Prove that:\n",
    "<br>\n",
    "if $B \\subset A$ then $A \\cap B = B$"
   ]
  },
  {
   "cell_type": "markdown",
   "metadata": {},
   "source": [
    "___Proof:___\n",
    "<br>\n",
    "In order to prove set equality $A \\cap B = B$, we need to prove two inclusions: 1) $A \\cap B \\subseteq B$ and 2) $B \\subseteq A \\cap B$.\n",
    "<br>\n",
    "1) $A \\cap B$ implies that $\\forall x \\in A \\cap B, x \\in A$ and $x \\in B$, hence $A \\cap B \\subseteq B$ is true.\n",
    "<br>\n",
    "2) $\\forall x \\in B, x \\in A$, because $B \\cap A$. This means that $\\forall x \\in B, x \\in A$ and $x \\in B$, hence $x \\in A \\cap B$. So $B \\subseteq A \\cap B$ is true, given $B \\cap A$."
   ]
  },
  {
   "cell_type": "markdown",
   "metadata": {},
   "source": [
    "#### Prove that:\n",
    "<br>\n",
    "$A \\cap B = B \\cap A$"
   ]
  },
  {
   "cell_type": "markdown",
   "metadata": {},
   "source": [
    "___Proof:___\n",
    "<br>\n",
    "In order to prove commutativity of intersection operation, we need to consider two inclusions: $A \\cap B \\subseteq B \\cap A$ and $B \\cap A \\subseteq A \\cap B$.\n",
    "<br>\n",
    "$A \\cap B$ means that if $x \\in A \\cap B$, then $x \\in A$ and $x \\in B$, which is equivalent to stating that $x \\in B$ and $x \\in A$ and hence $x \\in B \\cap A$. By the same reasoning, we can prove inclusion $B \\cap A \\subseteq A \\cap B$; thus, $A \\cap B = B \\cap A$."
   ]
  },
  {
   "cell_type": "markdown",
   "metadata": {},
   "source": [
    "#### Prove that:\n",
    "<br>\n",
    "if $B \\subset A$ then $A \\cup B = A$"
   ]
  },
  {
   "cell_type": "markdown",
   "metadata": {},
   "source": [
    "___Proof:___\n",
    "<br>\n",
    "$A \\cup B$ notation is equivalent to statement: $x \\in A$ or $x \\in B$. If $B \\subset A$, then $x \\in B$ implies that $x \\in A$; therefore, the previous statement can be changed to $(x \\in A$ or $x \\in A) \\equiv x \\in A$. So, $A \\cup B \\subseteq A$. In order to prove the second inclusion ($A \\subseteq A \\cup B$), we just need to recall the definition of union operation: according to which $\\forall x \\in A$, $x \\in A \\cup B$."
   ]
  },
  {
   "cell_type": "markdown",
   "metadata": {},
   "source": [
    "#### Prove that:\n",
    "<br>\n",
    "$A \\cup B = B \\cup A$"
   ]
  },
  {
   "cell_type": "markdown",
   "metadata": {},
   "source": [
    "___Proof:___\n",
    "<br>\n",
    "In order to prove commutativity of union operation, we need to consider two inclusions: $A \\cup B \\subseteq B \\cup A$ and $B \\cup A \\subseteq A \\cup B$.\n",
    "<br>\n",
    "$A \\cup B$ means that if $x \\in A \\cap B$, then $x \\in A$ or $x \\in B$, which is equivalent to stating that $x \\in B$ or $x \\in A$ and hence $x \\in B \\cup A$. By the same reasoning, we can prove inclusion $B \\cup A \\subseteq A \\cup B$; thus, $A \\cup B = B \\cup A$."
   ]
  },
  {
   "cell_type": "markdown",
   "metadata": {},
   "source": [
    "#### Prove that:\n",
    "- for every injection $m:A \\to B$ and pair of functions $f, g :C \\to A$: if $m \\circ f = m \\circ g$ then $f = g$ and vice-versa\n",
    "- for every surjection $e:A \\to B$ and every pair of functions $f, g :B \\to C$: if $f \\circ e = g \\circ e$ then $f = g$ and vice-versa"
   ]
  },
  {
   "cell_type": "markdown",
   "metadata": {},
   "source": [
    "#### Prove that \n",
    "- composition of injections is injection itself\n",
    "- composition of surjections is surjection itself\n",
    "- composition of bijections is bijection itself\n",
    "<br>\n",
    "or give a counterexamples"
   ]
  },
  {
   "cell_type": "markdown",
   "metadata": {},
   "source": [
    "__Composition of two injective functions is injective__\n",
    "<br>\n",
    "___Proof:___\n",
    "<br>\n",
    "Let $f$ and $g$ be injective functions. Let, $a$ and $b$ be real numbers, such that $(f \\circ g)(a) = (f \\circ g)(b)$. Then, by definition of composition, $f(g(a)) = f(g(b))$. Since function $f$ is injective, $g(a)$ must be equal to $g(b)$. Now, function $g$ is also injective, therefore $a = b$, which proves that composition of two injective functions is also injective."
   ]
  },
  {
   "cell_type": "markdown",
   "metadata": {},
   "source": [
    "__Composition of two surjective functions is surjective__\n",
    "<br>\n",
    "___Proof:___\n",
    "<br>\n",
    "Let $X, Y, Z$ be sets and let $f$ and $g$ be surjective functions, mapping from $X$ to $Y$ and from $Y$ to $Z$ respectively ($f : X \\rightarrow Y$ and $g : Y \\rightarrow Z$). Firstly, let's rewrite the composition to the form: $g(f(x))$. According to the definition of surjective function, $\\forall z \\in Z$ $\\exists y \\in Y$, such that $g(y) = z$. Similarly, $\\forall y \\in Y$ $\\exists x \\in X$, such that $f(x) = y$, as function $f$ is also surjective. By combining the latter statements, we get that $\\forall z \\in Z$ $\\exists x \\in X$, such that $(f \\circ g)(x) = z$, which completes the proof."
   ]
  },
  {
   "cell_type": "markdown",
   "metadata": {},
   "source": [
    "#### Prove that for each set $A$:\n",
    "- $A \\cong A$\n",
    "- if $B \\cong A$ then $B \\cong A$ for every pair of sets $A$ and $B$\n",
    "- if $A \\cong B$ and $B \\cong C$ then $A \\cong C$ for every triplet $A$, $B$ and $C$"
   ]
  },
  {
   "cell_type": "markdown",
   "metadata": {},
   "source": [
    "- $A \\cong A$\n",
    "<br>\n",
    "Identity function is an example of bijection between a set and itself."
   ]
  },
  {
   "cell_type": "markdown",
   "metadata": {},
   "source": [
    "- if $B \\cong A$ then $B \\cong A$ for every pair of sets $A$ and $B$\n",
    "<br>\n",
    "Let $f$ be a bijective function $f: A \\rightarrow B$. $f^{-1}$, if it exists, will map elements from $B$ to $A$. Thus, we need to prove that inverse of bijective function exists and is also bijective. Surjection of $f$ implies that every $b \\in B$ has a respective value $a \\in A$ and injectivion of $f$ implies that the latter value is unique, hence, the inverse clearly exists and is bijective."
   ]
  },
  {
   "cell_type": "markdown",
   "metadata": {},
   "source": [
    "- if $A \\cong B$ and $B \\cong C$ then $A \\cong C$ for every triplet $A$, $B$ and $C$\n",
    "<br>\n",
    "Let $f$ be a bijection between $A$ and $B$ and $g$ a bijection between $B$ and $C$. As we have already proven above, $f \\circ g$ will also be a bijection: its domain will be $A$ and codomain - $C$, therefore $A \\cong C$ will hold."
   ]
  },
  {
   "cell_type": "markdown",
   "metadata": {},
   "source": [
    "#### Prove that:\n",
    "<br>\n",
    "there exists a bijection between set of natural and even numbers"
   ]
  },
  {
   "cell_type": "markdown",
   "metadata": {},
   "source": [
    "___Proof by Example:___\n",
    "<br>\n",
    "An example of bijection between set of natural numbers and set even numbers, would be function $f(n) = 2n$, where $n \\in N$. $f$ is both injective and surjective, since for any even number $e$ there exists unique number $e / 2$."
   ]
  },
  {
   "cell_type": "markdown",
   "metadata": {},
   "source": [
    "#### Prove that:\n",
    "<br>\n",
    "if we have a bijection between two finite sets than they have an equal number of elements"
   ]
  },
  {
   "cell_type": "markdown",
   "metadata": {},
   "source": [
    "___Proof by Contradiction:___\n",
    "<br>\n",
    "Let $f: X \\rightarrow Y$ be a bijective function. Assume that $\\vert X \\vert \\neq \\vert Y \\vert$; there are two cases, $\\vert X \\vert \\lt \\vert Y \\vert$ and $\\vert X \\vert \\gt \\vert Y \\vert$.\n",
    "\n",
    "<br>\n",
    "case $\\vert X \\vert \\lt \\vert Y \\vert$: f being bijective implies that it is also injective and surjective, therefore $\\forall y \\in Y$ $\\exists! x \\in X$. But since $\\vert X \\vert \\lt \\vert Y \\vert$, according to pigeonhole principle, at least some $y \\in Y$ will have the same $x \\in X$ from the domain of the function, which contradicts to the definition of bijection.\n",
    "\n",
    "<br>\n",
    "case $\\vert X \\vert \\gt \\vert Y \\vert$: f being bijective implies that it is also injective, meaning that for any pair $a, b \\in X$ if $f(a) = f(b)$, then $a = b$. Again, according to pigeonhole principle, at least some $x \\in X$ will be mapped to the same $y \\in Y$, which contradicts to the definition of injection."
   ]
  },
  {
   "cell_type": "markdown",
   "metadata": {},
   "source": [
    "#### Prove that:\n",
    "<br>\n",
    "$A \\times B \\cong B \\times A$"
   ]
  },
  {
   "cell_type": "markdown",
   "metadata": {},
   "source": [
    "Let $f$ be a function $f:A \\times B \\rightarrow B \\times A$, defined as following: $f((a, b)) = (b, a)$. We now need to prove that the above function is bijective. Let $(a, b)$ and $(c, d)$ be in $A \\times B$. Then $g((a, b)) = g((c, d))$ implies $(b, a) = (d, c)$ which implies $(a, b) = (c, d)$, proving injection. Now, since $a \\in A$ and $b \\in B$, ordered pairs $(a, b)$ and $(b, a)$ will be present in sets $A \\times B$ and $B \\times A$, respectively. Thus, for any ordered pair $(b, a) \\in B \\times A$  $\\exists (a, b)$ ordered pair in $A \\times B$, which proves surjection."
   ]
  },
  {
   "cell_type": "markdown",
   "metadata": {},
   "source": [
    "#### Python implementation of union and interesction functions for multiple sets:"
   ]
  },
  {
   "cell_type": "markdown",
   "metadata": {},
   "source": [
    "$\\cap_{i\\in I}A_i$ and $\\cup_{i\\in I}A_i$"
   ]
  },
  {
   "cell_type": "code",
   "execution_count": 10,
   "metadata": {},
   "outputs": [],
   "source": [
    "def union(*argv):\n",
    "    result = set()\n",
    "    for arg in argv:\n",
    "        for elem in arg:\n",
    "            result.add(elem)\n",
    "    return result"
   ]
  },
  {
   "cell_type": "code",
   "execution_count": 11,
   "metadata": {
    "scrolled": true
   },
   "outputs": [
    {
     "name": "stdout",
     "output_type": "stream",
     "text": [
      "{1, 2, 3, 4}\n",
      "{1, 2, 3}\n",
      "{1, 3, 4}\n"
     ]
    }
   ],
   "source": [
    "# simple test case for union function\n",
    "a = {1, 2, 3}\n",
    "b = {3, 4}\n",
    "c = {1, 4}\n",
    "\n",
    "print(union(a, b, c))\n",
    "print(union(a))\n",
    "print(union(c, b))"
   ]
  },
  {
   "cell_type": "code",
   "execution_count": 27,
   "metadata": {},
   "outputs": [],
   "source": [
    "def intersection(*argv):\n",
    "    # save the count of each element across all sets\n",
    "    elemCount = dict()\n",
    "    for arg in argv:\n",
    "        for elem in arg:\n",
    "            elemCount[elem] = elemCount[elem] + 1 if elem in elemCount else 1\n",
    "    \n",
    "    # leave only the elements which all sets contain\n",
    "    result = set()\n",
    "    for elem, count in elemCount.items():\n",
    "        if count == len(argv):\n",
    "            result.add(elem)\n",
    "    return result"
   ]
  },
  {
   "cell_type": "code",
   "execution_count": 29,
   "metadata": {},
   "outputs": [
    {
     "name": "stdout",
     "output_type": "stream",
     "text": [
      "{1, 2}\n",
      "{1, 2, 3}\n",
      "{1, 2, 4}\n"
     ]
    }
   ],
   "source": [
    "# simple test case for intersection function\n",
    "a = {1, 2, 3}\n",
    "b = {1, 2, 3, 4}\n",
    "c = {1, 4, 2}\n",
    "\n",
    "print(intersection(a, b, c))\n",
    "print(intersection(a))\n",
    "print(intersection(c, b))"
   ]
  },
  {
   "cell_type": "markdown",
   "metadata": {},
   "source": [
    "We can also define cartesian product of any \"number\" of sets $\\prod_{i \\in I}{A_i}$"
   ]
  },
  {
   "cell_type": "code",
   "execution_count": 27,
   "metadata": {},
   "outputs": [],
   "source": [
    "def cartesianProductForN(*sets):\n",
    "    numSets = len(sets)    \n",
    "    if numSets == 0:\n",
    "        return []\n",
    "    \n",
    "    def helper(a, b):\n",
    "        tuples = []\n",
    "        for elemA in a:\n",
    "            for elemB in b:\n",
    "                if type(elemA) == tuple:\n",
    "                    tuples.append(elemA + (elemB,))\n",
    "                else:\n",
    "                    tuples.append((elemA, elemB))\n",
    "        return tuples\n",
    "    \n",
    "    result = sets[0]\n",
    "    for i in range(1, numSets):\n",
    "        result = helper(result, sets[i])\n",
    "    return result"
   ]
  },
  {
   "cell_type": "code",
   "execution_count": 29,
   "metadata": {},
   "outputs": [
    {
     "name": "stdout",
     "output_type": "stream",
     "text": [
      "[(1, 4), (1, 5), (2, 4), (2, 5), (3, 4), (3, 5)]\n",
      "[(1, 4, 6), (1, 4, 7), (1, 5, 6), (1, 5, 7), (2, 4, 6), (2, 4, 7), (2, 5, 6), (2, 5, 7), (3, 4, 6), (3, 4, 7), (3, 5, 6), (3, 5, 7)]\n"
     ]
    }
   ],
   "source": [
    "# test cases for cartesian product functions\n",
    "a = {1, 2, 3}\n",
    "b = {4, 5}\n",
    "c = {6, 7}\n",
    "\n",
    "print(cartesianProduct(a, b))\n",
    "print(cartesianProductForN(a, b, c))"
   ]
  },
  {
   "cell_type": "markdown",
   "metadata": {},
   "source": [
    "#### Prove that:\n",
    "<br>\n",
    "$$A \\cap (B \\cup C)=(A \\cap B) \\cup (A\\cap C)$$\n",
    "\n",
    "$$A \\cup (B \\cap C)=(A \\cup B) \\cap (A\\cup C)$$"
   ]
  },
  {
   "cell_type": "markdown",
   "metadata": {},
   "source": [
    "$$A \\cap (B \\cup C)=(A \\cap B) \\cup (A\\cap C)$$\n",
    "<br>\n",
    "__Proof:__\n",
    "<br>\n",
    "Let x be an element of $A \\cap (B \\cup C)$. This means that $x \\in A$ and $x \\in (B \\cup C)$. Since $x \\in (B \\cup C)$ we know $x \\in B$ or $x \\in C$.This implies $x \\in (A \\cap B)$ or $x \\in (A \\cap C)$. Then, since $x \\in (A \\cap B)$ or $x \\in (A \\cap C)$, we have $x \\in (A \\cap B) \\cup (A \\cap C)$. Thus, $A \\cap (B \\cup C) \\subseteq (A \\cap B) \\cup (A \\cap C)$.\n",
    "<br>\n",
    "For the second inclusion, we let x an element of $(A \\cap B) \\cup (A \\cap C)$. From the latter statement, $x \\in (A \\cap B)$ or $x \\in (A \\cap C)$. If $x \\in (A \\cap B)$ then $x \\in A$ and $x \\in B$, while if $x \\in (A \\cap C)$ we have $x \\in A$ and $x \\in C$. Thus, we have $x \\in A$ and either $x \\in B$ or $x \\in C$. Since $x \\in B$ or $x \\in C$, we know $x \\in (B \\cup C)$. Since we already had that $x \\in A$, $x \\in A \\cap (B \\cup C)$. Therefore, $(A \\cap B) \\cup (A \\cap C) \\subseteq A \\cap (B \\cup C)$ and $A \\cap (B \\cup C) = (A \\cap B) \\cup (A \\cap C)$."
   ]
  },
  {
   "cell_type": "markdown",
   "metadata": {},
   "source": [
    "$$A \\cup (B \\cap C)=(A \\cup B) \\cap (A\\cup C)$$\n",
    "<br>\n",
    "__Proof:__\n",
    "<br>\n",
    "Let x be an element of $A \\cup (B \\cap C)$. This means $x \\in A$ or $x \\in (B \\cap C)$. If $x \\in A$ then $x \\in A \\cup B$ and $x \\in A \\cup C$. Hence, $x \\in (A \\cup B) \\cap (A \\cup C)$. Otherwise, if $x \\in (B \\cap C)$ then $x \\in B$ and $c \\in C$. Hence, $x \\in A \\cup B$ and $x \\in A \\cup C$; therefore, $x \\in (A \\cup B) \\cap (A \\cup C)$. Therefore, $A \\cup (B \\cap C) \\subseteq (A \\cup B) \\cap (A \\cup C)$.\n",
    "For the second inclusion, let x be an element of $(A \\cup B) \\cap (A \\cup C)$. This means $x \\in (A \\cup B)$ and $x \\in (A \\cup C)$. This implies that $x \\in A$ or $x \\in B$ and $x \\in C$. If $x \\in A$, then $x \\in A \\cup (B \\cap C)$. On the other hand, if $x \\in B$ and $x \\in C$, then $x \\in B \\cap C$. Hence, $x \\in A \\cup (B \\cap C)$. Therefore, $(A \\cup B) \\cap (A \\cup C) \\subseteq A \\cup (B \\cap C)$ and $A \\cup (B \\cap C) = (A \\cup B) \\cap (A \\cup C)$."
   ]
  },
  {
   "cell_type": "markdown",
   "metadata": {},
   "source": [
    "# Linear Algebra"
   ]
  },
  {
   "cell_type": "markdown",
   "metadata": {},
   "source": [
    "#### Prove that:\n",
    "<br>\n",
    "$(AB)^{T} = B^{T}A^{T}$ for each pair of matrices $A, B \\in \\mathbb{R}^{n \\times m}$"
   ]
  },
  {
   "cell_type": "markdown",
   "metadata": {},
   "source": [
    "Let $A$ be $m$ x $n$ matrix and B be $n$ by $p$ matrix. Let's denote each entry of matrix $A$ by $a_{ij}$ and that of matrix $B$ by $b_{ij}$; $i$ and $j$ indicate row and column, respectively. By definition, each element of matrix product $AB$ will be $\\sum_{k = 1}^n a_{ik} \\cdot b_{kj}$, where $i \\in [1, m], j \\in [1, p]$. As for elements of $(AB)^T$, they will be $\\sum_{k = 1}^n a_{ik} \\cdot b_{kj}$, where $i \\in [1, p], j \\in [1, m]$, which is same as $\\sum_{k = 1}^n b_{kj} \\cdot a_{ik}$. Again from the definition of matrix multiplication operation, the latter sum denoting each element of resulting matrix is $B^T A^T$."
   ]
  },
  {
   "cell_type": "markdown",
   "metadata": {},
   "source": [
    "## Functions on tensors"
   ]
  },
  {
   "cell_type": "markdown",
   "metadata": {},
   "source": [
    "#### Write combination for $XOR$ calculation"
   ]
  },
  {
   "cell_type": "code",
   "execution_count": 60,
   "metadata": {},
   "outputs": [],
   "source": [
    "def xor(a, b):\n",
    "    if len(a) != len(b):\n",
    "        raise Exception(\"lengths must be equal\")\n",
    "    length = len(a)\n",
    "    result = []\n",
    "    for i in range(length):\n",
    "        if a[i] != b[i] and a[i] == 0 or b[i] == 0:\n",
    "            result.append(1)\n",
    "        else:\n",
    "            result.append(0)\n",
    "    return result"
   ]
  },
  {
   "cell_type": "code",
   "execution_count": 61,
   "metadata": {},
   "outputs": [
    {
     "data": {
      "text/plain": [
       "[1, 1, 0]"
      ]
     },
     "execution_count": 61,
     "metadata": {},
     "output_type": "execute_result"
    }
   ],
   "source": [
    "xor([1, 0, 1], [0, 1, 1])"
   ]
  }
 ],
 "metadata": {
  "kernelspec": {
   "display_name": "Python 3",
   "language": "python",
   "name": "python3"
  },
  "language_info": {
   "codemirror_mode": {
    "name": "ipython",
    "version": 3
   },
   "file_extension": ".py",
   "mimetype": "text/x-python",
   "name": "python",
   "nbconvert_exporter": "python",
   "pygments_lexer": "ipython3",
   "version": "3.7.3"
  }
 },
 "nbformat": 4,
 "nbformat_minor": 4
}

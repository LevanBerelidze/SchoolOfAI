{
 "cells": [
  {
   "cell_type": "code",
   "execution_count": null,
   "metadata": {},
   "outputs": [],
   "source": [
    "%load_ext autoreload\n",
    "%autoreload 2\n",
    "\n",
    "%matplotlib inline"
   ]
  },
  {
   "cell_type": "markdown",
   "metadata": {},
   "source": [
    "## Basic setup"
   ]
  },
  {
   "cell_type": "markdown",
   "metadata": {},
   "source": [
    "Create anaconda environment\n",
    "<br>\n",
    "```bash\n",
    "conda create -n ml python=3.7.4 jupyter\n",
    "```\n",
    "Install fastai library\n",
    "<br>\n",
    "```bash\n",
    "conda install -c pytorch -c fastai fastai\n",
    "```"
   ]
  },
  {
   "cell_type": "code",
   "execution_count": null,
   "metadata": {},
   "outputs": [],
   "source": [
    "!pip install https://github.com/ipython-contrib/jupyter_contrib_nbextensions/tarball/master\n",
    "!pip install jupyter_nbextensions_configurator\n",
    "!jupyter contrib nbextension install --user\n",
    "!jupyter nbextensions_configurator enable --user"
   ]
  },
  {
   "cell_type": "markdown",
   "metadata": {},
   "source": [
    "# Metric spaces"
   ]
  },
  {
   "cell_type": "markdown",
   "metadata": {},
   "source": [
    "#### Prove that:\n",
    "For every metric space (X, d):\n",
    "- For any $\\mathcal{U} = \\{U | U$ is open in $(X, d)\\}$ holds $\\bigcup_{U \\in \\mathcal{U}} U$ is open in $(X, d)$\n",
    "- For any two $U, V \\subset X$ open in $(X, d)$ holds: $U \\cap V$ is open in $(X, d)$\n",
    "- $X$ is open in $(X, d)$\n",
    "- $\\emptyset$ is open in $(X, d)$"
   ]
  },
  {
   "cell_type": "markdown",
   "metadata": {},
   "source": [
    "- For any $\\mathcal{U} = \\{U | U$ is open in $(X, d)\\}$ holds $\\bigcup_{U \\in \\mathcal{U}} U$ is open in $(X, d)$:\n",
    "<br>\n",
    "<br>\n",
    "Let $X$ and $Y$ be open sets belonging to $\\mathcal{U}$. Take $x \\in X \\cup Y$. Then $x \\in X$ or $x \\in Y$. If $x \\in X$, as X is open, there exists an $r > 0$, such that $B(x,r) \\subset X \\cup Y$ and $B(x,r)$ is an open set. Therefore, $X \\cup Y$ is an open set. By induction, we can generalize this proof to any number of sets."
   ]
  },
  {
   "cell_type": "markdown",
   "metadata": {},
   "source": [
    "- For any two $U, V \\subset X$ open in $(X, d)$ holds: $U \\cap V$ is open in $(X, d)$\n",
    "<br>\n",
    "<br>\n",
    "Proof by contradiction:\n",
    "<br>\n",
    "Let $W = U \\cap V$. Now assume $W$ is not open. Since $W$ is not open, there exists $w \\in W$ such that $w$ is on the boundary of $W$ (boundary means that $\\exists y \\in W$ such that $d(w, y) = r$). This implies that $w$ is on the boundary of either $U$ or $V$, which is a contradiction."
   ]
  },
  {
   "cell_type": "markdown",
   "metadata": {},
   "source": [
    "- $X$ is open in $(X, d)$\n",
    "<br>\n",
    "<br>\n",
    "$X$ is open, since every subset that it contains is open (follows from the first proof)."
   ]
  },
  {
   "cell_type": "markdown",
   "metadata": {},
   "source": [
    "- $\\emptyset$ is open in $(X, d)$\n",
    "<br>\n",
    "<br>\n",
    "By definition, The set $U \\subset X$ is open in metric space (X, d) if for each point $x \\in U$ there exists $r \\in \\mathbb{R}$ such that $B(x, r) \\subset U$. Since $\\emptyset$ has no elements it will vacuously satisfy the latter condition."
   ]
  },
  {
   "cell_type": "markdown",
   "metadata": {},
   "source": [
    "#### Prove that:\n",
    "- For any finite set $(U)_{i=1}^{n}$ of open sets in $(X, d)$, $\\bigcap_{i=1}^{n}U$ is open in $(X, d)$"
   ]
  },
  {
   "cell_type": "markdown",
   "metadata": {},
   "source": [
    "___Proof By Induction:___\n",
    "<br>\n",
    "For i = 2, the statement is true (We have already proven that intersection of two open sets in $(X, d)$ is open).\n",
    "For i = k + 1, the statement will also hold, since  $\\bigcap_{i=1}^{k}U$ will be open and intersecting it with another open set will result in an open set. Therefore, for any finite $n$, intersection of $n$ open sets will be open."
   ]
  },
  {
   "cell_type": "markdown",
   "metadata": {},
   "source": [
    "#### Prove that for set $U \\subset X$ is open if and only if for each point $x \\in U$ there exists the open neighbourhood $V$ of $x$ such that $V \\subset U$"
   ]
  },
  {
   "cell_type": "markdown",
   "metadata": {},
   "source": [
    "#### Prove that, closed ball is closed subset in $(X, d)$\n"
   ]
  },
  {
   "cell_type": "markdown",
   "metadata": {},
   "source": [
    "#### Prove that\n",
    "For every metric space (X, d):"
   ]
  },
  {
   "cell_type": "markdown",
   "metadata": {},
   "source": [
    "- For any $\\mathcal{F} = \\{F | F$ is closed in $(X, d)\\}$ holds $\\bigcap_{F \\in \\mathcal{F}} F$ is closed in $(X, d)$"
   ]
  },
  {
   "cell_type": "markdown",
   "metadata": {},
   "source": [
    "___proof:___\n",
    "<br>\n",
    "As we saw above, for any $\\mathcal{U} = \\{U | U$ is open in $(X, d)\\}$ $\\bigcup_{U \\in \\mathcal{U}} U$ is open in $(X, d)$.\n",
    "Let $(\\bigcup_{U \\in \\mathcal{U}} U = A$ and $A^C = B$. By the latter proof $A$ will be open. $(\\bigcup_{U \\in \\mathcal{U}} U)^C = (\\bigcap_{U \\in \\mathcal{U}} U^C) = B$ Each $U^C$ will be closed, $B$ is closed, since it is a complement of open set $A$, hence, intersection of closed sets proves to be also closed."
   ]
  },
  {
   "cell_type": "markdown",
   "metadata": {},
   "source": [
    "- For any two $F_1, F_2 \\subset X$ closed in $(X, d)$ holds: $F_1 \\cup F_2$ is closed in $(X, d)$"
   ]
  },
  {
   "cell_type": "markdown",
   "metadata": {},
   "source": [
    "___proof:___\n",
    "<br>\n",
    "Let $F_1$ and $F_2$ be open sets belonging to $\\mathcal{F}$. Take $x \\in F_1 \\cup F_2$. Then $x \\in F_1$ or $x \\in F_2$. If $x \\in F_1$, as $F_1$ is closed, there exists an $r \\ge 0$, such that $B(x,r) \\subset F_1 \\cup F_2$ and $B(x,r)$ is an closed set. Therefore, $F_1 \\cup F_2$ is an closed set."
   ]
  },
  {
   "cell_type": "markdown",
   "metadata": {},
   "source": [
    "- $X$ is closed in $(X, d)$"
   ]
  },
  {
   "cell_type": "markdown",
   "metadata": {},
   "source": [
    "___proof:___\n",
    "<br>"
   ]
  },
  {
   "cell_type": "markdown",
   "metadata": {},
   "source": [
    "- $\\emptyset$ is closed in $(X, d)$"
   ]
  },
  {
   "cell_type": "markdown",
   "metadata": {},
   "source": [
    "___proof:___\n",
    "<br>\n",
    "By definition, the set $U \\subset X$ is closed in metric space (X, d) if for each point $x \\in U$ there exists $r \\in \\mathbb{R}$ such that $B(x, r) \\subseteq U$. Since $\\emptyset$ has no elements it will vacuously satisfy the latter condition."
   ]
  },
  {
   "cell_type": "markdown",
   "metadata": {},
   "source": [
    "#### Prove that:\n",
    "- For any finite set $(F)_{i=1}^{n}$ of closed sets in $(X, d)$, $\\bigcup_{i=1}^{n}F$ is closed in $(X, d)$"
   ]
  },
  {
   "cell_type": "markdown",
   "metadata": {},
   "source": [
    "___proof:___\n",
    "<br>\n",
    "By induction and the fact that  for $F_1, F_2 \\subset X$ closed in $(X, d)$ $F_1 \\cup F_2$ is closed, it follows that finite union of closed sets will also be closed."
   ]
  },
  {
   "cell_type": "markdown",
   "metadata": {},
   "source": [
    "#### Prove that, if $F \\subset X$ is closed then $X - F$ is open in $(X, d)$ "
   ]
  },
  {
   "cell_type": "markdown",
   "metadata": {},
   "source": [
    "# Metrics in Euclidean spaces"
   ]
  },
  {
   "cell_type": "markdown",
   "metadata": {},
   "source": [
    "#### Prove that:\n"
   ]
  },
  {
   "cell_type": "markdown",
   "metadata": {},
   "source": [
    "- for every $u, v \\in \\mathbb{R}^{n}$: $d(u, v) \\geq 0$"
   ]
  },
  {
   "cell_type": "markdown",
   "metadata": {},
   "source": [
    "___Proof:___\n",
    "<br>\n",
    "The distance will be given by the formula: $\\sqrt{|u_1 - v_1|^2 + |u_2 - v_2|^2 + \\dots + |u_n - v_n|^2}$, which always has a non-negative value."
   ]
  },
  {
   "cell_type": "markdown",
   "metadata": {},
   "source": [
    "- for every $v \\in \\mathbb{R}^{n}$: $d(v, v) = 0$"
   ]
  },
  {
   "cell_type": "markdown",
   "metadata": {},
   "source": [
    "___Proof:___\n",
    "<br>\n",
    "$d(v, v) = \\sqrt{|v_1 - v_1|^2 + |v_1 - v_1|^2 + \\dots + |v_n - v_n|^2} = \\sqrt{0 + \\dots + 0} = 0$."
   ]
  },
  {
   "cell_type": "markdown",
   "metadata": {},
   "source": [
    "- for every $u, v \\in \\mathbb{R}^{n}$: $d(u, v) = d(v, u)$ (symmetry)"
   ]
  },
  {
   "cell_type": "markdown",
   "metadata": {},
   "source": [
    "___Proof:___\n",
    "<br>\n",
    "$d(u, v) = \\sqrt{|u_1 - v_1|^2 + |u_2 - v_2|^2 + \\dots + |u_n - v_n|^2} = \\sqrt{|v_1 - u_1|^2 + |v_2 - u_2|^2 + \\dots + |v_n - u_n|^2} = d(v, u)$."
   ]
  },
  {
   "cell_type": "markdown",
   "metadata": {},
   "source": [
    "- for every $u, v, w \\in \\mathbb{R}^{n}$: $d(u, w) \\leq d(v, u) + d(v, w)$ (triangle inequality)"
   ]
  },
  {
   "cell_type": "markdown",
   "metadata": {},
   "source": [
    "___Proof:___\n",
    "<br>\n",
    "Distance between vectors $u$ and $v$ can be denoted as $||u - v||$.\n",
    "<br>\n",
    "$d(u, v) = ||u - v||$\n",
    "<br>\n",
    "$d(u, v) = ||u - w + w - v||$\n",
    "<br>\n",
    "$d(u, v) = ||(u - w) + (w - v)||$\n",
    "<br>\n",
    "$||(u - w) + (w - v)|| \\leq ||(u - w)|| + ||(w - v)||$, so:\n",
    "<br>\n",
    "$d(u, v) \\leq ||(u - w)|| + ||(w - v)||$\n",
    "<br>\n",
    "$d(u, v) \\leq d(u, w) + d(w, v)$"
   ]
  },
  {
   "cell_type": "markdown",
   "metadata": {},
   "source": [
    "#### Prove that the same properties hold for $d(u, v) = ||u-v||_1$ ($||u-v||_1 = \\sum_{i = 1}^{n}|u_i - v_i|$)"
   ]
  },
  {
   "cell_type": "markdown",
   "metadata": {},
   "source": [
    "___proof:___\n",
    "<br>\n",
    "1) $\\sum_{i = 1}^{n}|u_i - v_i| \\ge 0$, since each term $|u_i - v_i| \\ge 0$.\n",
    "<br>\n",
    "2) If $u = v$, then $\\sum_{i = 1}^{n}|u_i - v_i| = 0$, since each term $|u_i - v_i| = 0$.\n",
    "<br>\n",
    "3) $d(u, v) = ||u-v||$ is symmetric, because $|u_i - v_i| = |v_i - u_i|$.\n",
    "<br>\n",
    "4) <br>\n",
    "$d(u, v) = ||u - v||$\n",
    "<br>\n",
    "$d(u, v) = ||u - w + w - v||$\n",
    "<br>\n",
    "$d(u, v) = ||(u - w) + (w - v)||$\n",
    "<br>\n",
    "$||(u - w) + (w - v)|| \\leq ||(u - w)|| + ||(w - v)||$, so:\n",
    "<br>\n",
    "$d(u, v) \\leq ||(u - w)|| + ||(w - v)||$\n",
    "<br>\n",
    "$d(u, v) \\leq d(u, w) + d(w, v)$"
   ]
  },
  {
   "cell_type": "markdown",
   "metadata": {},
   "source": [
    "## Sequences and limits"
   ]
  },
  {
   "cell_type": "markdown",
   "metadata": {},
   "source": [
    "#### Prove that $x = \\lim_{n\\to\\infty}{x_n}$ in $(X, d)$ if and only if (iff) for every $r \\in \\mathbb{R}$ there exists $n_0 \\in \\mathbb{N}$ such that: $x_i \\in B(x, r)$ for every $i \\gt n_0$"
   ]
  },
  {
   "cell_type": "markdown",
   "metadata": {},
   "source": [
    "#### Prove that if $x = \\lim_{n\\to\\infty}{x_n}$ and $x \\notin \\{-\\infty, \\infty\\}$ then $(x_i)_{i=1}^{\\infty} = (x_1, x_2, \\dots, x_n)$ is a Cauchy sequence\n",
    "<br>\n",
    "For closed set $F \\subset \\mathbb{R}^n$ and convergent sequence $(x_i)_{i=1}^{\\infty} = (x_1, x_2, \\dots, x_n)$ such that there exists $n_0 \\in \\mathbb{N}$ such that $x_i \\in F$ for each $i \\gt n_0$ then: $\\lim_{n\\to\\infty}{x_n} \\in F$"
   ]
  },
  {
   "cell_type": "markdown",
   "metadata": {},
   "source": [
    "#### Prove that if $F$ is open from previous example, statement does not hold. "
   ]
  },
  {
   "cell_type": "markdown",
   "metadata": {},
   "source": [
    "#### Prove that inherited metric is a metric"
   ]
  },
  {
   "cell_type": "markdown",
   "metadata": {},
   "source": [
    "## Limits of functions"
   ]
  },
  {
   "cell_type": "markdown",
   "metadata": {},
   "source": [
    "Let $f:S \\to Y$ is function between subset $S \\subset X$ of a metric space $(X, d_x)$ and metric space $(Y, d_Y)$\n",
    "- We say that the limit of function $f:(S, d_x) \\to (Y, d_Y)$ between metric spaces in some limit point $c \\in X$ of the subset $S$ is $y \\in Y $if for each open neighborhood of $y \\in V \\subset Y$ there exists the open neighborhood of $c \\in U \\subset X$ such that $f(U \\cap S) \\subset V$\n",
    "<br>\n",
    "This definition is equivalent of definition:\n",
    "<br>\n",
    "- The limit of function $f:(S, d_X) \\to (Y, d_Y)$ between metric spaces in limit point $c \\in X$ of the subset $S$ is $y \\in Y $ if for each open ball $B(x, r) \\subset Y$ there exists the ball $B(c, l) \\subset X$ such that $f(B(c, l) \\cap S) \\subset B(y, r)$\n",
    "<br>\n",
    "or\n",
    "<br>\n",
    "- The limit of function $f:(S, d_X) \\to (Y, d_Y)$ between metric spaces in limit point $c \\in X$ of subset $S$ is $y \\in Y $ if for any $r \\in \\mathbb{R}$ there exists $l \\in \\mathbb{R}$ such that for every $x \\in S$ with $d_X(x, c) < l$ implies that $d_Y(f(x), y) < r$"
   ]
  },
  {
   "cell_type": "markdown",
   "metadata": {},
   "source": [
    "#### Prove that these three definitions are equivalent for any function between any two metric spaces"
   ]
  },
  {
   "cell_type": "markdown",
   "metadata": {},
   "source": [
    "## Continuous functions "
   ]
  },
  {
   "cell_type": "markdown",
   "metadata": {},
   "source": [
    "#### Prove that function is continuous in $c$ if for any sequence $(x_n)_{n=1}^{\\infty} \\subset X$ such that $\\lim_{n \\to \\infty}x_n = c$ we have $\\lim_{n \\to \\infty}f(x_n) = f(c)$"
   ]
  },
  {
   "cell_type": "markdown",
   "metadata": {},
   "source": [
    "Let $d_1$ and $d_2$ be distance functions of $X$ and $Y$, respectively. Suppose that $\\lim_{x \\to c} f(x) = L$. Let $\\epsilon \\gt 0$. Then by the definition of the limit of a function: $\\exists \\delta > 0$ such that $d_2(f(x), L) \\lt \\epsilon$ if $d_1(x,c)$ is bounded by $0$ and $\\delta$. Now let $x_n$ be a sequence of points such that $\\lim_{n \\to \\infty}x_n = c$. $\\exists N$, such that $\\forall n \\gt N$ $d_1(x_n,c) \\lt \\delta$, which follows from the definition of a limit. That implies that $\\exists N$ such that $\\forall n \\gt N$ $d_2(f(x_n), L) \\le \\epsilon$ Thus, $\\lim_{n \\to \\infty}f(x_n) = L$."
   ]
  },
  {
   "cell_type": "markdown",
   "metadata": {},
   "source": [
    "#### Prove that function is continuous if for every open set $V \\subset Y$ the $f^{-1}(V)$ is open in $X$"
   ]
  },
  {
   "cell_type": "markdown",
   "metadata": {},
   "source": [
    "#### Prove that function is continuous if for every closed set $F \\subset Y$ the $f^{-1}(F)$ is closed in $X$"
   ]
  },
  {
   "cell_type": "markdown",
   "metadata": {},
   "source": [
    "#### Prove that any composition of continous functions is continous"
   ]
  }
 ],
 "metadata": {
  "kernelspec": {
   "display_name": "Python 3",
   "language": "python",
   "name": "python3"
  },
  "language_info": {
   "codemirror_mode": {
    "name": "ipython",
    "version": 3
   },
   "file_extension": ".py",
   "mimetype": "text/x-python",
   "name": "python",
   "nbconvert_exporter": "python",
   "pygments_lexer": "ipython3",
   "version": "3.7.3"
  }
 },
 "nbformat": 4,
 "nbformat_minor": 4
}
